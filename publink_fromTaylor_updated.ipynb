{
 "cells": [
  {
   "cell_type": "code",
   "execution_count": 1,
   "metadata": {},
   "outputs": [],
   "source": [
    "from publink import publink\n",
    "import requests \n",
    "import pandas as pd \n",
    "import os \n",
    "from pprintjson import pprintjson as ppjson "
   ]
  },
  {
   "cell_type": "code",
   "execution_count": 2,
   "metadata": {},
   "outputs": [
    {
     "data": {
      "text/html": [
       "<div>\n",
       "<style scoped>\n",
       "    .dataframe tbody tr th:only-of-type {\n",
       "        vertical-align: middle;\n",
       "    }\n",
       "\n",
       "    .dataframe tbody tr th {\n",
       "        vertical-align: top;\n",
       "    }\n",
       "\n",
       "    .dataframe thead th {\n",
       "        text-align: right;\n",
       "    }\n",
       "</style>\n",
       "<table border=\"1\" class=\"dataframe\">\n",
       "  <thead>\n",
       "    <tr style=\"text-align: right;\">\n",
       "      <th></th>\n",
       "      <th>Unnamed: 0</th>\n",
       "      <th>pub_in_xdd</th>\n",
       "      <th>rel_pub_url</th>\n",
       "      <th>dr_doi</th>\n",
       "    </tr>\n",
       "  </thead>\n",
       "  <tbody>\n",
       "    <tr>\n",
       "      <th>0</th>\n",
       "      <td>0</td>\n",
       "      <td>False</td>\n",
       "      <td>https://doi.org/10.1021/acs.est.8b07227</td>\n",
       "      <td>doi:10.5066/P90QU56J</td>\n",
       "    </tr>\n",
       "    <tr>\n",
       "      <th>1</th>\n",
       "      <td>1</td>\n",
       "      <td>False</td>\n",
       "      <td>https://doi.org/10.1007/s13157-017-0895-3</td>\n",
       "      <td>doi:10.5066/F73R0R24</td>\n",
       "    </tr>\n",
       "    <tr>\n",
       "      <th>2</th>\n",
       "      <td>2</td>\n",
       "      <td>True</td>\n",
       "      <td>https://doi.org/10.1002/etc.3391</td>\n",
       "      <td>doi:10.5066/F7VQ30RM</td>\n",
       "    </tr>\n",
       "    <tr>\n",
       "      <th>3</th>\n",
       "      <td>3</td>\n",
       "      <td>True</td>\n",
       "      <td>https://doi.org/10.3133/sim3378</td>\n",
       "      <td>doi:10.5066/F71G0JF6</td>\n",
       "    </tr>\n",
       "    <tr>\n",
       "      <th>4</th>\n",
       "      <td>4</td>\n",
       "      <td>True</td>\n",
       "      <td>https://doi.org/10.3133/sir20155164</td>\n",
       "      <td>doi:10.5066/F7571931</td>\n",
       "    </tr>\n",
       "    <tr>\n",
       "      <th>...</th>\n",
       "      <td>...</td>\n",
       "      <td>...</td>\n",
       "      <td>...</td>\n",
       "      <td>...</td>\n",
       "    </tr>\n",
       "    <tr>\n",
       "      <th>1349</th>\n",
       "      <td>1349</td>\n",
       "      <td>False</td>\n",
       "      <td>https://doi.org/10.1186/s40462-019-0178-0</td>\n",
       "      <td>doi:10.5066/P9D5IP0G</td>\n",
       "    </tr>\n",
       "    <tr>\n",
       "      <th>1350</th>\n",
       "      <td>1350</td>\n",
       "      <td>True</td>\n",
       "      <td>https://doi.org/10.3133/sir20175135</td>\n",
       "      <td>doi:10.5066/F7JH3KBD</td>\n",
       "    </tr>\n",
       "    <tr>\n",
       "      <th>1351</th>\n",
       "      <td>1351</td>\n",
       "      <td>False</td>\n",
       "      <td>https://doi.org/10.1371/journal.pone.0197584</td>\n",
       "      <td>doi:10.5066/P9V9AORH</td>\n",
       "    </tr>\n",
       "    <tr>\n",
       "      <th>1352</th>\n",
       "      <td>1352</td>\n",
       "      <td>True</td>\n",
       "      <td>https://doi.org/10.3133/sim3423</td>\n",
       "      <td>doi:10.5066/P9BS882S</td>\n",
       "    </tr>\n",
       "    <tr>\n",
       "      <th>1353</th>\n",
       "      <td>1353</td>\n",
       "      <td>True</td>\n",
       "      <td>https://doi.org/10.3133/ofr20191086</td>\n",
       "      <td>doi:10.5066/P9T6P5SM</td>\n",
       "    </tr>\n",
       "  </tbody>\n",
       "</table>\n",
       "<p>1354 rows × 4 columns</p>\n",
       "</div>"
      ],
      "text/plain": [
       "      Unnamed: 0  pub_in_xdd                                   rel_pub_url  \\\n",
       "0              0       False       https://doi.org/10.1021/acs.est.8b07227   \n",
       "1              1       False     https://doi.org/10.1007/s13157-017-0895-3   \n",
       "2              2        True              https://doi.org/10.1002/etc.3391   \n",
       "3              3        True               https://doi.org/10.3133/sim3378   \n",
       "4              4        True           https://doi.org/10.3133/sir20155164   \n",
       "...          ...         ...                                           ...   \n",
       "1349        1349       False     https://doi.org/10.1186/s40462-019-0178-0   \n",
       "1350        1350        True           https://doi.org/10.3133/sir20175135   \n",
       "1351        1351       False  https://doi.org/10.1371/journal.pone.0197584   \n",
       "1352        1352        True               https://doi.org/10.3133/sim3423   \n",
       "1353        1353        True           https://doi.org/10.3133/ofr20191086   \n",
       "\n",
       "                    dr_doi  \n",
       "0     doi:10.5066/P90QU56J  \n",
       "1     doi:10.5066/F73R0R24  \n",
       "2     doi:10.5066/F7VQ30RM  \n",
       "3     doi:10.5066/F71G0JF6  \n",
       "4     doi:10.5066/F7571931  \n",
       "...                    ...  \n",
       "1349  doi:10.5066/P9D5IP0G  \n",
       "1350  doi:10.5066/F7JH3KBD  \n",
       "1351  doi:10.5066/P9V9AORH  \n",
       "1352  doi:10.5066/P9BS882S  \n",
       "1353  doi:10.5066/P9T6P5SM  \n",
       "\n",
       "[1354 rows x 4 columns]"
      ]
     },
     "execution_count": 2,
     "metadata": {},
     "output_type": "execute_result"
    }
   ],
   "source": [
    "# Spreadsheet with pub in xdd added to it \n",
    "fname = os.path.join(\"pub_in_xdd.csv\")\n",
    "pub_in_xdd = pd.read_csv(fname)\n",
    "dr_doi_pub = pub_in_xdd\n",
    "dr_doi_pub"
   ]
  },
  {
   "cell_type": "code",
   "execution_count": 3,
   "metadata": {},
   "outputs": [],
   "source": [
    "# Dropped the unnamed column \n",
    "dr_doi_pub = dr_doi_pub.drop(columns=['Unnamed: 0'], axis=1)"
   ]
  },
  {
   "cell_type": "code",
   "execution_count": 4,
   "metadata": {},
   "outputs": [],
   "source": [
    "# Strip url prefix from rel_pub_url column\n",
    "dr_doi_pub[\"rel_pub_doi\"] = dr_doi_pub[\"rel_pub_url\"].str.replace(\"https://doi.org/\", \"\")"
   ]
  },
  {
   "cell_type": "code",
   "execution_count": 5,
   "metadata": {},
   "outputs": [],
   "source": [
    "# Strip \"doi:\" prefix to the data release DOI\n",
    "dr_doi_pub[\"drdoi\"] = dr_doi_pub[\"dr_doi\"].str.replace(\"doi:\", \"\")"
   ]
  },
  {
   "cell_type": "code",
   "execution_count": 6,
   "metadata": {},
   "outputs": [],
   "source": [
    "# Remove the rel_pub_url and dr_doi columns \n",
    "dr_doi_pub = dr_doi_pub.drop(columns=[\"rel_pub_url\", \"dr_doi\"], axis=1)"
   ]
  },
  {
   "cell_type": "code",
   "execution_count": 7,
   "metadata": {},
   "outputs": [
    {
     "data": {
      "text/html": [
       "<div>\n",
       "<style scoped>\n",
       "    .dataframe tbody tr th:only-of-type {\n",
       "        vertical-align: middle;\n",
       "    }\n",
       "\n",
       "    .dataframe tbody tr th {\n",
       "        vertical-align: top;\n",
       "    }\n",
       "\n",
       "    .dataframe thead th {\n",
       "        text-align: right;\n",
       "    }\n",
       "</style>\n",
       "<table border=\"1\" class=\"dataframe\">\n",
       "  <thead>\n",
       "    <tr style=\"text-align: right;\">\n",
       "      <th></th>\n",
       "      <th>pub_in_xdd</th>\n",
       "      <th>rel_pub_doi</th>\n",
       "      <th>drdoi</th>\n",
       "    </tr>\n",
       "  </thead>\n",
       "  <tbody>\n",
       "    <tr>\n",
       "      <th>0</th>\n",
       "      <td>False</td>\n",
       "      <td>10.1021/acs.est.8b07227</td>\n",
       "      <td>10.5066/P90QU56J</td>\n",
       "    </tr>\n",
       "    <tr>\n",
       "      <th>1</th>\n",
       "      <td>False</td>\n",
       "      <td>10.1007/s13157-017-0895-3</td>\n",
       "      <td>10.5066/F73R0R24</td>\n",
       "    </tr>\n",
       "    <tr>\n",
       "      <th>2</th>\n",
       "      <td>True</td>\n",
       "      <td>10.1002/etc.3391</td>\n",
       "      <td>10.5066/F7VQ30RM</td>\n",
       "    </tr>\n",
       "    <tr>\n",
       "      <th>3</th>\n",
       "      <td>True</td>\n",
       "      <td>10.3133/sim3378</td>\n",
       "      <td>10.5066/F71G0JF6</td>\n",
       "    </tr>\n",
       "    <tr>\n",
       "      <th>4</th>\n",
       "      <td>True</td>\n",
       "      <td>10.3133/sir20155164</td>\n",
       "      <td>10.5066/F7571931</td>\n",
       "    </tr>\n",
       "    <tr>\n",
       "      <th>...</th>\n",
       "      <td>...</td>\n",
       "      <td>...</td>\n",
       "      <td>...</td>\n",
       "    </tr>\n",
       "    <tr>\n",
       "      <th>1349</th>\n",
       "      <td>False</td>\n",
       "      <td>10.1186/s40462-019-0178-0</td>\n",
       "      <td>10.5066/P9D5IP0G</td>\n",
       "    </tr>\n",
       "    <tr>\n",
       "      <th>1350</th>\n",
       "      <td>True</td>\n",
       "      <td>10.3133/sir20175135</td>\n",
       "      <td>10.5066/F7JH3KBD</td>\n",
       "    </tr>\n",
       "    <tr>\n",
       "      <th>1351</th>\n",
       "      <td>False</td>\n",
       "      <td>10.1371/journal.pone.0197584</td>\n",
       "      <td>10.5066/P9V9AORH</td>\n",
       "    </tr>\n",
       "    <tr>\n",
       "      <th>1352</th>\n",
       "      <td>True</td>\n",
       "      <td>10.3133/sim3423</td>\n",
       "      <td>10.5066/P9BS882S</td>\n",
       "    </tr>\n",
       "    <tr>\n",
       "      <th>1353</th>\n",
       "      <td>True</td>\n",
       "      <td>10.3133/ofr20191086</td>\n",
       "      <td>10.5066/P9T6P5SM</td>\n",
       "    </tr>\n",
       "  </tbody>\n",
       "</table>\n",
       "<p>1354 rows × 3 columns</p>\n",
       "</div>"
      ],
      "text/plain": [
       "      pub_in_xdd                   rel_pub_doi             drdoi\n",
       "0          False       10.1021/acs.est.8b07227  10.5066/P90QU56J\n",
       "1          False     10.1007/s13157-017-0895-3  10.5066/F73R0R24\n",
       "2           True              10.1002/etc.3391  10.5066/F7VQ30RM\n",
       "3           True               10.3133/sim3378  10.5066/F71G0JF6\n",
       "4           True           10.3133/sir20155164  10.5066/F7571931\n",
       "...          ...                           ...               ...\n",
       "1349       False     10.1186/s40462-019-0178-0  10.5066/P9D5IP0G\n",
       "1350        True           10.3133/sir20175135  10.5066/F7JH3KBD\n",
       "1351       False  10.1371/journal.pone.0197584  10.5066/P9V9AORH\n",
       "1352        True               10.3133/sim3423  10.5066/P9BS882S\n",
       "1353        True           10.3133/ofr20191086  10.5066/P9T6P5SM\n",
       "\n",
       "[1354 rows x 3 columns]"
      ]
     },
     "execution_count": 7,
     "metadata": {},
     "output_type": "execute_result"
    }
   ],
   "source": [
    "dr_doi_pub"
   ]
  },
  {
   "cell_type": "code",
   "execution_count": 8,
   "metadata": {},
   "outputs": [],
   "source": [
    "def xdd_pub_mention_dr_doi(dr_doi, pub_doi): # Change row to dr_doi, add pub_doi as param\n",
    "    url = f\"https://geodeepdive.org/api/articles?doi=&max=1\"\n",
    "    r = requests.get(url)\n",
    "    try:\n",
    "        search = publink.search_xdd(\n",
    "        dr_doi, account_for_spaces=True\n",
    "        )\n",
    "        mention = publink.xdd_mentions(\n",
    "        search.response_data, search.search_terms,\n",
    "        search_type='exact_match', is_doi=True # Change 'row' to 'exact_match'\n",
    "        )\n",
    "        # Create a list of pubs mentions\n",
    "        pubs = [pub['pub_doi'] for pub in mention.mentions]\n",
    "    except:\n",
    "        return None \n",
    "    return pub_doi in pubs\n",
    "        "
   ]
  },
  {
   "cell_type": "code",
   "execution_count": 9,
   "metadata": {},
   "outputs": [
    {
     "data": {
      "text/plain": [
       "True"
      ]
     },
     "execution_count": 9,
     "metadata": {},
     "output_type": "execute_result"
    }
   ],
   "source": [
    "xdd_pub_mention_dr_doi(\"10.5066/F7765D7V\",'10.3133/SIR20195106')"
   ]
  },
  {
   "cell_type": "code",
   "execution_count": null,
   "metadata": {},
   "outputs": [],
   "source": [
    "dr_doi_pub['dr_doi_mentioned'] = dr_doi_pub.apply(lambda row: None if row['pub_in_xdd'] == False else xdd_pub_mention_dr_doi(row['drdoi'],row['rel_pub_doi']), axis=1)"
   ]
  },
  {
   "cell_type": "code",
   "execution_count": null,
   "metadata": {},
   "outputs": [],
   "source": [
    "display(dr_doi_pub)"
   ]
  },
  {
   "cell_type": "code",
   "execution_count": null,
   "metadata": {},
   "outputs": [],
   "source": [
    "dr_doi_pub.dr_doi_mentioned.value_counts()"
   ]
  }
 ],
 "metadata": {
  "kernelspec": {
   "display_name": "Python 3",
   "language": "python",
   "name": "python3"
  },
  "language_info": {
   "codemirror_mode": {
    "name": "ipython",
    "version": 3
   },
   "file_extension": ".py",
   "mimetype": "text/x-python",
   "name": "python",
   "nbconvert_exporter": "python",
   "pygments_lexer": "ipython3",
   "version": "3.7.6"
  }
 },
 "nbformat": 4,
 "nbformat_minor": 4
}
